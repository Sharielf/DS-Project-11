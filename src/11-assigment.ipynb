{
 "cells": [
  {
   "attachments": {},
   "cell_type": "markdown",
   "id": "7da6badd",
   "metadata": {},
   "source": [
    "# Задания"
   ]
  },
  {
   "cell_type": "code",
   "execution_count": 17,
   "id": "a5684e7c",
   "metadata": {},
   "outputs": [],
   "source": [
    "import numpy as np\n",
    "import pandas as pd\n",
    "import matplotlib.pyplot as plt\n",
    "from scipy import stats\n",
    "from scipy.stats import t\n",
    "import math "
   ]
  },
  {
   "attachments": {},
   "cell_type": "markdown",
   "id": "a788fc8d",
   "metadata": {},
   "source": [
    "## Доверительные интервалы"
   ]
  },
  {
   "attachments": {},
   "cell_type": "markdown",
   "id": "28ef55c5",
   "metadata": {},
   "source": [
    "### Задание 1"
   ]
  },
  {
   "attachments": {},
   "cell_type": "markdown",
   "id": "84673cba",
   "metadata": {},
   "source": [
    "Построй диаграмму зависимости количества проданной пиццы от дня недели.\n",
    "Вывести дни недели, в которые продано **больше** и  **меньше** всего пиццы."
   ]
  },
  {
   "cell_type": "code",
   "execution_count": 18,
   "id": "747fb4dd",
   "metadata": {},
   "outputs": [
    {
     "data": {
      "text/html": [
       "<div>\n",
       "<style scoped>\n",
       "    .dataframe tbody tr th:only-of-type {\n",
       "        vertical-align: middle;\n",
       "    }\n",
       "\n",
       "    .dataframe tbody tr th {\n",
       "        vertical-align: top;\n",
       "    }\n",
       "\n",
       "    .dataframe thead th {\n",
       "        text-align: right;\n",
       "    }\n",
       "</style>\n",
       "<table border=\"1\" class=\"dataframe\">\n",
       "  <thead>\n",
       "    <tr style=\"text-align: right;\">\n",
       "      <th></th>\n",
       "      <th>order_details_id</th>\n",
       "      <th>order_id</th>\n",
       "      <th>pizza_id</th>\n",
       "      <th>order_date</th>\n",
       "      <th>order_time</th>\n",
       "      <th>unit_price</th>\n",
       "      <th>total_price</th>\n",
       "      <th>pizza_size</th>\n",
       "      <th>pizza_category</th>\n",
       "      <th>pizza_ingredients</th>\n",
       "      <th>pizza_name</th>\n",
       "      <th>lead_time</th>\n",
       "    </tr>\n",
       "  </thead>\n",
       "  <tbody>\n",
       "    <tr>\n",
       "      <th>0</th>\n",
       "      <td>1</td>\n",
       "      <td>1</td>\n",
       "      <td>hawaiian_m</td>\n",
       "      <td>2015-01-01 00:00:00</td>\n",
       "      <td>11:38:36</td>\n",
       "      <td>13,25</td>\n",
       "      <td>13,25</td>\n",
       "      <td>M</td>\n",
       "      <td>Classic</td>\n",
       "      <td>Sliced Ham, Pineapple, Mozzarella Cheese</td>\n",
       "      <td>The Hawaiian Pizza</td>\n",
       "      <td>2015-01-01 11:53:30</td>\n",
       "    </tr>\n",
       "    <tr>\n",
       "      <th>1</th>\n",
       "      <td>2</td>\n",
       "      <td>2</td>\n",
       "      <td>classic_dlx_m</td>\n",
       "      <td>2015-01-01 00:00:00</td>\n",
       "      <td>11:57:40</td>\n",
       "      <td>16</td>\n",
       "      <td>16</td>\n",
       "      <td>M</td>\n",
       "      <td>Classic</td>\n",
       "      <td>Pepperoni, Mushrooms, Red Onions, Red Peppers,...</td>\n",
       "      <td>The Classic Deluxe Pizza</td>\n",
       "      <td>2015-01-01 12:16:26</td>\n",
       "    </tr>\n",
       "    <tr>\n",
       "      <th>2</th>\n",
       "      <td>3</td>\n",
       "      <td>2</td>\n",
       "      <td>five_cheese_l</td>\n",
       "      <td>2015-01-01 00:00:00</td>\n",
       "      <td>11:57:40</td>\n",
       "      <td>18,5</td>\n",
       "      <td>18,5</td>\n",
       "      <td>L</td>\n",
       "      <td>Veggie</td>\n",
       "      <td>Mozzarella Cheese, Provolone Cheese, Smoked Go...</td>\n",
       "      <td>The Five Cheese Pizza</td>\n",
       "      <td>2015-01-01 12:16:19</td>\n",
       "    </tr>\n",
       "    <tr>\n",
       "      <th>3</th>\n",
       "      <td>4</td>\n",
       "      <td>2</td>\n",
       "      <td>ital_supr_l</td>\n",
       "      <td>2015-01-01 00:00:00</td>\n",
       "      <td>11:57:40</td>\n",
       "      <td>20,75</td>\n",
       "      <td>20,75</td>\n",
       "      <td>L</td>\n",
       "      <td>Supreme</td>\n",
       "      <td>Calabrese Salami, Capocollo, Tomatoes, Red Oni...</td>\n",
       "      <td>The Italian Supreme Pizza</td>\n",
       "      <td>2015-01-01 12:10:58</td>\n",
       "    </tr>\n",
       "    <tr>\n",
       "      <th>4</th>\n",
       "      <td>5</td>\n",
       "      <td>2</td>\n",
       "      <td>mexicana_m</td>\n",
       "      <td>2015-01-01 00:00:00</td>\n",
       "      <td>11:57:40</td>\n",
       "      <td>16</td>\n",
       "      <td>16</td>\n",
       "      <td>M</td>\n",
       "      <td>Veggie</td>\n",
       "      <td>Tomatoes, Red Peppers, Jalapeno Peppers, Red O...</td>\n",
       "      <td>The Mexicana Pizza</td>\n",
       "      <td>2015-01-01 12:14:24</td>\n",
       "    </tr>\n",
       "  </tbody>\n",
       "</table>\n",
       "</div>"
      ],
      "text/plain": [
       "   order_details_id  order_id       pizza_id           order_date order_time  \\\n",
       "0                 1         1     hawaiian_m  2015-01-01 00:00:00   11:38:36   \n",
       "1                 2         2  classic_dlx_m  2015-01-01 00:00:00   11:57:40   \n",
       "2                 3         2  five_cheese_l  2015-01-01 00:00:00   11:57:40   \n",
       "3                 4         2    ital_supr_l  2015-01-01 00:00:00   11:57:40   \n",
       "4                 5         2     mexicana_m  2015-01-01 00:00:00   11:57:40   \n",
       "\n",
       "  unit_price total_price pizza_size pizza_category  \\\n",
       "0      13,25       13,25          M        Classic   \n",
       "1         16          16          M        Classic   \n",
       "2       18,5        18,5          L         Veggie   \n",
       "3      20,75       20,75          L        Supreme   \n",
       "4         16          16          M         Veggie   \n",
       "\n",
       "                                   pizza_ingredients  \\\n",
       "0           Sliced Ham, Pineapple, Mozzarella Cheese   \n",
       "1  Pepperoni, Mushrooms, Red Onions, Red Peppers,...   \n",
       "2  Mozzarella Cheese, Provolone Cheese, Smoked Go...   \n",
       "3  Calabrese Salami, Capocollo, Tomatoes, Red Oni...   \n",
       "4  Tomatoes, Red Peppers, Jalapeno Peppers, Red O...   \n",
       "\n",
       "                  pizza_name            lead_time  \n",
       "0         The Hawaiian Pizza  2015-01-01 11:53:30  \n",
       "1   The Classic Deluxe Pizza  2015-01-01 12:16:26  \n",
       "2      The Five Cheese Pizza  2015-01-01 12:16:19  \n",
       "3  The Italian Supreme Pizza  2015-01-01 12:10:58  \n",
       "4         The Mexicana Pizza  2015-01-01 12:14:24  "
      ]
     },
     "execution_count": 18,
     "metadata": {},
     "output_type": "execute_result"
    }
   ],
   "source": [
    "data = pd.read_csv('../datasets/pizza.csv',delimiter=';')\n",
    "data.head()"
   ]
  },
  {
   "cell_type": "code",
   "execution_count": 19,
   "id": "d7c14c1b",
   "metadata": {},
   "outputs": [
    {
     "data": {
      "image/png": "[encoded data removed]",
      "text/plain": [
       "<Figure size 640x480 with 1 Axes>"
      ]
     },
     "metadata": {},
     "output_type": "display_data"
    },
    {
     "name": "stdout",
     "output_type": "stream",
     "text": [
      "День с наибольшим количеством проданных пицц: Thursday\n",
      "День с наименьшим количеством проданных пицц: Sunday\n"
     ]
    }
   ],
   "source": [
    "# Загрузка данных о заказах из файла\n",
    "order_data = pd.read_csv('../datasets/pizza.csv', delimiter=';')\n",
    "\n",
    "# Преобразование столбца с датой заказа в формат даты\n",
    "order_data['order_date'] = pd.to_datetime(order_data['order_date'])\n",
    "\n",
    "# Получение дня недели для каждого заказа\n",
    "order_data['day_of_week'] = order_data['order_date'].dt.day_name()\n",
    "\n",
    "# Построение гистограммы\n",
    "order_data['day_of_week'].value_counts().plot(kind='bar')\n",
    "plt.xlabel('День недели')\n",
    "plt.ylabel('Количество проданных пицц')\n",
    "plt.title('Продажи пиццы по дням недели')\n",
    "plt.show()\n",
    "\n",
    "# Поиск дня с наибольшим и наименьшим количеством проданных пицц\n",
    "day_most_pizzas = order_data['day_of_week'].value_counts().idxmax()\n",
    "day_fewest_pizzas = order_data['day_of_week'].value_counts().idxmin()\n",
    "\n",
    "print(\"День с наибольшим количеством проданных пицц:\", day_most_pizzas)\n",
    "print(\"День с наименьшим количеством проданных пицц:\", day_fewest_pizzas)"
   ]
  },
  {
   "attachments": {},
   "cell_type": "markdown",
   "id": "76d81b7e",
   "metadata": {},
   "source": [
    "### Задание 2"
   ]
  },
  {
   "attachments": {},
   "cell_type": "markdown",
   "id": "9aaf3a6e",
   "metadata": {},
   "source": [
    "Посчитай, сколько **секунд** необходимо для приготовления каждой пиццы по всем заказам. Значения сохранить в новый столбец - `cook_time`. Найти среднее, медианное, максимальное и минимальное время приготовления пиццы. Результат округлите до целого."
   ]
  },
  {
   "cell_type": "code",
   "execution_count": 20,
   "id": "ce8c7b19",
   "metadata": {},
   "outputs": [
    {
     "name": "stdout",
     "output_type": "stream",
     "text": [
      "Среднее время приготовления: 1006\n",
      "Медианное время приготовления: 1006\n",
      "Максимальное время приготовления: 1609\n",
      "Минимальное время приготовления: 444\n"
     ]
    }
   ],
   "source": [
    "# Преобразуем orderdate, ordertime и leadtime в формат даты и времени\n",
    "order_data['order_date'] = pd.to_datetime(order_data['order_date'])\n",
    "order_data['order_time'] = pd.to_timedelta(order_data['order_time'])\n",
    "order_data['lead_time'] = pd.to_datetime(order_data['lead_time'])\n",
    "\n",
    "# Вычисляем orderdatetime путем сложения orderdate и ordertime\n",
    "order_data['order_datetime'] = order_data['order_date'] + order_data['order_time']\n",
    "\n",
    "# Вычисляем cooktime для каждой пиццы в секундах\n",
    "order_data['cook_time'] = (order_data['lead_time'] - order_data['order_datetime']).dt.total_seconds()\n",
    "\n",
    "# Округляем cooktime до ближайшего целого числа\n",
    "order_data['cook_time'] = order_data['cook_time'].round()\n",
    "\n",
    "# Вычисляем среднее, медиану, максимум и минимум cooktime\n",
    "mean_cook_time = order_data['cook_time'].mean()\n",
    "median_cook_time = order_data['cook_time'].median()\n",
    "max_cook_time = order_data['cook_time'].max()\n",
    "min_cook_time = order_data['cook_time'].min()\n",
    "\n",
    "print(\"Среднее время приготовления:\", int(mean_cook_time))\n",
    "print(\"Медианное время приготовления:\", int(median_cook_time))\n",
    "print(\"Максимальное время приготовления:\", int(max_cook_time))\n",
    "print(\"Минимальное время приготовления:\", int(min_cook_time))"
   ]
  },
  {
   "attachments": {},
   "cell_type": "markdown",
   "id": "e3ddd404",
   "metadata": {},
   "source": [
    "### Задание 3"
   ]
  },
  {
   "attachments": {},
   "cell_type": "markdown",
   "id": "666426b6",
   "metadata": {},
   "source": [
    "Построй 95% доверительный интервал для среднего времени приготовления пиццы в **секундах**. Интервал округли до целого\n",
    "> Для расчета стандартного отклонения используй `numpy.std(ddof=1)`"
   ]
  },
  {
   "cell_type": "code",
   "execution_count": 21,
   "id": "05fbb9d2",
   "metadata": {},
   "outputs": [
    {
     "name": "stdout",
     "output_type": "stream",
     "text": [
      "95% Доверительный интервал: [1002, 1012]\n"
     ]
    }
   ],
   "source": [
    "# Преобразуем order_date, order_time и lead_time в формат даты и времени:\n",
    "order_data['order_date'] = pd.to_datetime(order_data['order_date'])\n",
    "order_data['order_time'] = pd.to_timedelta(order_data['order_time'])\n",
    "order_data['lead_time'] = pd.to_datetime(order_data['lead_time'])\n",
    "\n",
    "# Вычислим order_datetime, добавив order_date и order_time:\n",
    "order_data['order_datetime'] = order_data['order_date'] + order_data['order_time']\n",
    "\n",
    "# Вычислим время приготовления для каждой пиццы в секундах:\n",
    "order_data['cook_time'] = (order_data['lead_time'] - order_data['order_datetime']).dt.total_seconds()\n",
    "\n",
    "# Вычислим среднее значение и стандартное отклонение времени приготовления:\n",
    "mean_cook_time = order_data['cook_time'].mean()\n",
    "std_cook_time = np.std(order_data['cook_time'], ddof=1)\n",
    "\n",
    "# Вычислим объем выборки:\n",
    "n = len(order_data)\n",
    "\n",
    "# Вычислим доверительный интервал:\n",
    "z = 1.96  # Z-оценка для 95% доверительного интервала\n",
    "interval = z * (std_cook_time / math.sqrt(n))\n",
    "\n",
    "# Вычислим нижнюю и верхнюю границы доверительного интервала:\n",
    "lower_bound = math.ceil(mean_cook_time - interval)\n",
    "upper_bound = math.ceil(mean_cook_time + interval)\n",
    "\n",
    "print(\"95% Доверительный интервал: [{}, {}]\".format(lower_bound, upper_bound))"
   ]
  },
  {
   "attachments": {},
   "cell_type": "markdown",
   "id": "5ee86693",
   "metadata": {},
   "source": [
    "### Задание 4"
   ]
  },
  {
   "attachments": {},
   "cell_type": "markdown",
   "id": "7de38e4e",
   "metadata": {},
   "source": [
    "Хозяин ресторана хочет оптимизировать меню ресторана. При формировании цены на пиццу хозяин хочет учитывать время \n",
    "её изготовления. Давай найдем ту пиццу (pizza_name), у которой верхняя граница доверительного интервала её изготовления \n",
    "самая высокая.\n",
    "> Среди пицц, у которых за все время заказывали более 100 штук"
   ]
  },
  {
   "cell_type": "code",
   "execution_count": 22,
   "id": "522c8330",
   "metadata": {},
   "outputs": [
    {
     "name": "stdout",
     "output_type": "stream",
     "text": [
      "Пицца с наибольшим временем приготовления: The Italian Vegetables Pizza\n"
     ]
    }
   ],
   "source": [
    "# Отфильтровываем пиццы, которые были заказаны более 100 раз\n",
    "popular_pizzas = order_data['pizza_name'].value_counts().loc[lambda x: x > 100].index\n",
    "\n",
    "# Фильтруем популярные пиццы\n",
    "popular_pizza_data = order_data[order_data['pizza_name'].isin(popular_pizzas)]\n",
    "\n",
    "# Группируем пиццу по названию и рассчитайте среднее значение и стандартное отклонение времени приготовления \n",
    "grouped_pizza_data = popular_pizza_data.groupby('pizza_name')['cook_time'].agg(['mean', 'std', 'count'])\n",
    "\n",
    "# Вычисляем верхнюю границу доверительного интервала для каждой пиццы\n",
    "Z = 1.96  # Z-оценка для 95% доверительного интервала\n",
    "grouped_pizza_data['upper_bound'] = grouped_pizza_data.apply(lambda row: row['mean'] + (Z * (row['std'] / math.sqrt(row['count']))), axis=1)\n",
    "\n",
    "# Ищем пиццу с самой высокой верхней границей\n",
    "max_upper_bound_pizza = grouped_pizza_data['upper_bound'].idxmax()\n",
    "\n",
    "print(\"Пицца с наибольшим временем приготовления:\", max_upper_bound_pizza)\n"
   ]
  },
  {
   "attachments": {},
   "cell_type": "markdown",
   "id": "f81baa2f",
   "metadata": {},
   "source": [
    "### Задание 5"
   ]
  },
  {
   "attachments": {},
   "cell_type": "markdown",
   "id": "005c00f5",
   "metadata": {},
   "source": [
    "Также хозяину ресторана хочется убрать из меню пиццы с нестабильным временем изготовления. \n",
    "Давай найдем пиццу с самым широким доверительным интервалом.\n",
    "> Среди пицц, у которых за все время заказывали более 100 штук"
   ]
  },
  {
   "cell_type": "code",
   "execution_count": 23,
   "id": "8932a0cc",
   "metadata": {},
   "outputs": [
    {
     "name": "stdout",
     "output_type": "stream",
     "text": [
      "Пицца с самым широким доверительным интервалом: The Chicken Alfredo Pizza\n"
     ]
    }
   ],
   "source": [
    "from scipy.stats import t\n",
    "\n",
    "# Вычисляем длину доверительного интервала для каждой пиццы\n",
    "grouped_pizza_data['interval_length'] = grouped_pizza_data.apply(lambda row: 2 * t.ppf(0.975, row['count'] - 1) * (row['std'] / math.sqrt(row['count'])), axis=1)\n",
    "\n",
    "# Ищем пиццу с самой большой длиной интервала\n",
    "max_interval_length_pizza = grouped_pizza_data['interval_length'].idxmax()\n",
    "\n",
    "print(\"Пицца с самым широким доверительным интервалом:\", max_interval_length_pizza)"
   ]
  },
  {
   "attachments": {},
   "cell_type": "markdown",
   "id": "b28393c5",
   "metadata": {},
   "source": [
    "## AB тестирование"
   ]
  },
  {
   "attachments": {},
   "cell_type": "markdown",
   "id": "9dc3e5a8",
   "metadata": {},
   "source": [
    "### Задание 6"
   ]
  },
  {
   "attachments": {},
   "cell_type": "markdown",
   "id": "028eddf8",
   "metadata": {},
   "source": [
    "В качестве нулевой гипотезы (H0) выберем, что старый баннер лучше нового.  В качестве альтернативной гипотезы (H1) выберем, \n",
    "что новый баннер лучше старого. Построй 95% доверительный интервал для доли каждого из баннеров, используя метод \n",
    "[proportion_confint](https://www.statsmodels.org/devel/generated/statsmodels.stats.proportion.proportion_confint.html)\n",
    "библиотеки statsmodels. Пересекаются ли эти интервалы?"
   ]
  },
  {
   "cell_type": "code",
   "execution_count": 24,
   "id": "8b30b379",
   "metadata": {},
   "outputs": [
    {
     "name": "stdout",
     "output_type": "stream",
     "text": [
      "95% доверительный интервал для баннера 'banner_a': (0.02530064022092865, 0.04869935977907135)\n",
      "95% доверительный интервал для баннера 'banner_b': (0.03911451622486782, 0.06688548377513218)\n",
      "Интервалы пересекаются\n"
     ]
    }
   ],
   "source": [
    "import statsmodels.stats.proportion as prop\n",
    "from statsmodels.stats.proportion import proportion_confint\n",
    "from statsmodels.stats.proportion import proportions_ztest\n",
    "\n",
    "click_data = pd.read_csv('../datasets/click.csv')\n",
    "\n",
    "# 95% доверительный интервал для доли каждого из баннеров\n",
    "votes_banner_a = click_data['banner_a'].sum()\n",
    "total_banner_a = click_data['banner_a'].count()\n",
    "\n",
    "votes_banner_b = click_data['banner_b'].sum()\n",
    "total_banner_b = click_data['banner_b'].count()\n",
    "\n",
    "ci_banner_a = proportion_confint(votes_banner_a, total_banner_a, alpha=0.05, method='normal')\n",
    "ci_banner_b = proportion_confint(votes_banner_b, total_banner_b, alpha=0.05, method='normal')\n",
    "\n",
    "print(\"95% доверительный интервал для баннера 'banner_a':\", ci_banner_a)\n",
    "print(\"95% доверительный интервал для баннера 'banner_b':\", ci_banner_b)\n",
    "\n",
    "# Проверка пересечения интервалов\n",
    "if ci_banner_a[1] >= ci_banner_b[0] or ci_banner_b[1] >= ci_banner_a[0]:\n",
    "    print(\"Интервалы пересекаются\")\n",
    "else:\n",
    "    print(\"Интервалы не пересекаются\")"
   ]
  },
  {
   "attachments": {},
   "cell_type": "markdown",
   "id": "84ac442f",
   "metadata": {},
   "source": [
    "### Задание 7"
   ]
  },
  {
   "attachments": {},
   "cell_type": "markdown",
   "id": "8d760d69",
   "metadata": {},
   "source": [
    "Для более детальной оценки построй 95% доверительный интервал для разности двух долей.\n",
    "**Ответ дай в формате:**\\\n",
    "95% доверительный интервал для разности двух долей: [0.99847, 9.99847]"
   ]
  },
  {
   "attachments": {},
   "cell_type": "markdown",
   "id": "2f34dfbc",
   "metadata": {},
   "source": [
    "Левая и правая границы доверительного интервала рассчитываются по формулам:\n",
    "$$p_a - p_b \\pm z * \\sqrt{\\frac{p_a(1 - p_a)}{n_a} + \\frac{p_b(1 - p_b)}{n_b}}$$\n",
    "Где\n",
    "\n",
    "$p_a = \\frac{n_{like(a)}}{n_{a}}$,\n",
    "\n",
    "$p_b = \\frac{n_{like(b)}}{n_{b}}$,\n",
    "\n",
    "$z = 1-\\frac{\\alpha}{2}$ (используй scipy.stats.norm.ppf)\n",
    "\n",
    "$n_a$ - общее количество кликов по баннеру а\n",
    "\n",
    "$n_b$ - общее количество кликов по баннеру b\n",
    "\n",
    "$n_{like(a)}$ - количество лайков по баннеру а\n",
    "\n",
    "$n_{like(b)}$ - количество лайков по баннеру b"
   ]
  },
  {
   "cell_type": "code",
   "execution_count": 25,
   "id": "aa51d523",
   "metadata": {},
   "outputs": [
    {
     "name": "stdout",
     "output_type": "stream",
     "text": [
      "95% доверительный интервал для разности двух долей: [-0.03416, 0.00216]\n"
     ]
    }
   ],
   "source": [
    "# Вычисление долей и общего количества кликов\n",
    "p_a = click_data['banner_a'].sum() / click_data['banner_a'].count()\n",
    "p_b = click_data['banner_b'].sum() / click_data['banner_b'].count()\n",
    "n_a = click_data['banner_a'].count()\n",
    "n_b = click_data['banner_b'].count()\n",
    "n_like_a = click_data['banner_a'].sum()\n",
    "n_like_b = click_data['banner_b'].sum()\n",
    "\n",
    "# Вычисление доверительного интервала\n",
    "alpha = 0.05\n",
    "z = stats.norm.ppf(1 - alpha/2)\n",
    "std_error = np.sqrt((p_a*(1-p_a))/n_a + (p_b*(1-p_b))/n_b)\n",
    "diff_ci = [round(p_a - p_b - z * std_error, 5), round(p_a - p_b + z * std_error, 5)]\n",
    "\n",
    "# Вывод результатов\n",
    "print(\"95% доверительный интервал для разности двух долей:\", diff_ci)"
   ]
  },
  {
   "attachments": {},
   "cell_type": "markdown",
   "id": "adda94db",
   "metadata": {},
   "source": [
    "### Задание 8"
   ]
  },
  {
   "attachments": {},
   "cell_type": "markdown",
   "id": "b9f88120",
   "metadata": {},
   "source": [
    "Проведи АБ-тест. Какой баннер лучше? H0 - Старый баннер или H1 - новый баннер.\n",
    "В этом тебе поможем функция [z-критерия](code-samples/stats.py)."
   ]
  },
  {
   "attachments": {},
   "cell_type": "markdown",
   "id": "771558cb",
   "metadata": {},
   "source": [
    "$$Z({X_1, X_2}) =  \\frac{p_a - p_b}{\\sqrt{P(1 - P)(\\frac{1}{n_a} + \\frac{1}{n_b})}}$$\n",
    "$$P = \\frac{p_a{n_a} + p_b{n_b}}{{n_a} + {n_b}} $$\n",
    "\n",
    "$p_a, p_b = \\frac{∑кликов}{n}$, n - общее количество кликов по баннеру\n",
    "\n",
    "$n_a$ - общее количество кликов по баннеру а\n",
    "\n",
    "$n_b$ - общее количество кликов по баннеру b"
   ]
  },
  {
   "cell_type": "code",
   "execution_count": 26,
   "id": "c4349f01",
   "metadata": {},
   "outputs": [],
   "source": [
    "def z_stat(sample1, sample2):\n",
    "    n_a = len(sample1)\n",
    "    n_b = len(sample2)\n",
    "\n",
    "    p_a = float(sum(sample1)) / n_a\n",
    "    p_b = float(sum(sample2)) / n_b \n",
    "    P = float(p_a * n_a + p_b * n_b) / (n_a + n_b)\n",
    "  \n",
    "    return (p_a - p_b) / np.sqrt(P * (1 - P) * (1. / n_a + 1. / n_b))"
   ]
  },
  {
   "cell_type": "code",
   "execution_count": 27,
   "id": "1bc97105",
   "metadata": {},
   "outputs": [
    {
     "data": {
      "text/html": [
       "<div>\n",
       "<style scoped>\n",
       "    .dataframe tbody tr th:only-of-type {\n",
       "        vertical-align: middle;\n",
       "    }\n",
       "\n",
       "    .dataframe tbody tr th {\n",
       "        vertical-align: top;\n",
       "    }\n",
       "\n",
       "    .dataframe thead th {\n",
       "        text-align: right;\n",
       "    }\n",
       "</style>\n",
       "<table border=\"1\" class=\"dataframe\">\n",
       "  <thead>\n",
       "    <tr style=\"text-align: right;\">\n",
       "      <th></th>\n",
       "      <th>banner_a</th>\n",
       "      <th>banner_b</th>\n",
       "    </tr>\n",
       "  </thead>\n",
       "  <tbody>\n",
       "    <tr>\n",
       "      <th>0</th>\n",
       "      <td>0</td>\n",
       "      <td>0</td>\n",
       "    </tr>\n",
       "    <tr>\n",
       "      <th>1</th>\n",
       "      <td>1</td>\n",
       "      <td>1</td>\n",
       "    </tr>\n",
       "    <tr>\n",
       "      <th>2</th>\n",
       "      <td>0</td>\n",
       "      <td>0</td>\n",
       "    </tr>\n",
       "    <tr>\n",
       "      <th>3</th>\n",
       "      <td>0</td>\n",
       "      <td>0</td>\n",
       "    </tr>\n",
       "    <tr>\n",
       "      <th>4</th>\n",
       "      <td>0</td>\n",
       "      <td>0</td>\n",
       "    </tr>\n",
       "    <tr>\n",
       "      <th>...</th>\n",
       "      <td>...</td>\n",
       "      <td>...</td>\n",
       "    </tr>\n",
       "    <tr>\n",
       "      <th>995</th>\n",
       "      <td>0</td>\n",
       "      <td>0</td>\n",
       "    </tr>\n",
       "    <tr>\n",
       "      <th>996</th>\n",
       "      <td>0</td>\n",
       "      <td>0</td>\n",
       "    </tr>\n",
       "    <tr>\n",
       "      <th>997</th>\n",
       "      <td>0</td>\n",
       "      <td>0</td>\n",
       "    </tr>\n",
       "    <tr>\n",
       "      <th>998</th>\n",
       "      <td>0</td>\n",
       "      <td>0</td>\n",
       "    </tr>\n",
       "    <tr>\n",
       "      <th>999</th>\n",
       "      <td>0</td>\n",
       "      <td>0</td>\n",
       "    </tr>\n",
       "  </tbody>\n",
       "</table>\n",
       "<p>1000 rows × 2 columns</p>\n",
       "</div>"
      ],
      "text/plain": [
       "     banner_a  banner_b\n",
       "0           0         0\n",
       "1           1         1\n",
       "2           0         0\n",
       "3           0         0\n",
       "4           0         0\n",
       "..        ...       ...\n",
       "995         0         0\n",
       "996         0         0\n",
       "997         0         0\n",
       "998         0         0\n",
       "999         0         0\n",
       "\n",
       "[1000 rows x 2 columns]"
      ]
     },
     "execution_count": 27,
     "metadata": {},
     "output_type": "execute_result"
    }
   ],
   "source": [
    "click_data"
   ]
  },
  {
   "cell_type": "code",
   "execution_count": 28,
   "id": "b12d59dd",
   "metadata": {},
   "outputs": [
    {
     "name": "stdout",
     "output_type": "stream",
     "text": [
      "Отвергаем нулевую гипотезу. Новый баннер лучше.\n"
     ]
    }
   ],
   "source": [
    "# Извлечение кликов для старого баннера (banner_a) и нового баннера (banner_b)\n",
    "sample1 = click_data['banner_a']\n",
    "sample2 = click_data['banner_b']\n",
    "\n",
    "def z_stat(sample1, sample2):\n",
    "    n_a = len(sample1)\n",
    "    n_b = len(sample2)\n",
    "\n",
    "    p_a = float(sum(sample1)) / n_a\n",
    "    p_b = float(sum(sample2)) / n_b \n",
    "    P = float(p_a * n_a + p_b * n_b) / (n_a + n_b)\n",
    "  \n",
    "    return (p_a - p_b) / np.sqrt(P * (1 - P) * (1. / n_a + 1. / n_b))\n",
    "\n",
    "z = z_stat(sample1, sample2)\n",
    "\n",
    "alpha = 0.05  # Уровень значимости\n",
    "\n",
    "if z > 0:\n",
    "    p_value = 1 - stats.norm.cdf(z)  # Вычисление p-значения\n",
    "else:\n",
    "    p_value = stats.norm.cdf(z)\n",
    "\n",
    "if p_value < alpha:\n",
    "    print(\"Отвергаем нулевую гипотезу. Новый баннер лучше.\")\n",
    "else:\n",
    "    print(\"Не отвергаем нулевую гипотезу. Старый баннер лучше или они равны.\")"
   ]
  },
  {
   "attachments": {},
   "cell_type": "markdown",
   "id": "c33139fd",
   "metadata": {},
   "source": [
    "## Корреляции"
   ]
  },
  {
   "attachments": {},
   "cell_type": "markdown",
   "id": "8a4a0430",
   "metadata": {},
   "source": [
    "### Задание 9"
   ]
  },
  {
   "attachments": {},
   "cell_type": "markdown",
   "id": "02de20e4",
   "metadata": {},
   "source": [
    "Прочитай про корреляции Пирсона и Спирмена. Узнай какие связи между выборками они способны находить. По сгенерированным выборкам посчитай коррелицию Пирсона и Спирмена для выборок `x-y1`, `x-y2`, `x-y3`. Отрисуй выборки в формате, как показано ниже:\n",
    "<img src=\"../misc/images/corr.png\">"
   ]
  },
  {
   "attachments": {},
   "cell_type": "markdown",
   "id": "313a15d6",
   "metadata": {},
   "source": [
    "Объясни, почему получается такое значение корреляций."
   ]
  },
  {
   "cell_type": "code",
   "execution_count": 29,
   "id": "5d260fe7",
   "metadata": {},
   "outputs": [],
   "source": [
    "x = np.linspace(-10,10,100)\n",
    "y1 = x ** 2\n",
    "y2 = -x **2\n",
    "y3 = np.log(x ** 2 + 1)"
   ]
  },
  {
   "cell_type": "code",
   "execution_count": 30,
   "id": "5bf4ed0a",
   "metadata": {},
   "outputs": [
    {
     "data": {
      "image/png": "[encoded data removed]",
      "text/plain": [
       "<Figure size 1000x600 with 1 Axes>"
      ]
     },
     "metadata": {},
     "output_type": "display_data"
    }
   ],
   "source": [
    "import numpy as np\n",
    "import matplotlib.pyplot as plt\n",
    "import scipy.stats as stats\n",
    "\n",
    "x = np.linspace(-10, 10, 100)\n",
    "y1 = x ** 2\n",
    "y2 = -x ** 2\n",
    "y3 = np.log(x ** 2 + 1)\n",
    "\n",
    "# Расчет корреляции Пирсона\n",
    "corr_pearson_y1 = np.corrcoef(x, y1)[0, 1]\n",
    "corr_pearson_y2 = np.corrcoef(x, y2)[0, 1]\n",
    "corr_pearson_y3 = np.corrcoef(x, y3)[0, 1]\n",
    "\n",
    "# Расчет корреляции Спирмена\n",
    "corr_spearman_y1 = stats.spearmanr(x, y1).correlation\n",
    "corr_spearman_y2 = stats.spearmanr(x, y2).correlation\n",
    "corr_spearman_y3 = stats.spearmanr(x, y3).correlation\n",
    "\n",
    "# Отображение выборок\n",
    "plt.figure(figsize=(10, 6))\n",
    "plt.plot(x, y1, label='y1: x^2')\n",
    "plt.plot(x, y2, label='y2: -x^2')\n",
    "plt.plot(x, y3, label='y3: log(x^2 + 1)')\n",
    "plt.xlabel('x')\n",
    "plt.ylabel('y')\n",
    "plt.title('График выборок')\n",
    "plt.legend()\n",
    "\n",
    "# Вывод значений корреляции\n",
    "plt.text(-10, 80, f'Pearson: {corr_pearson_y1:.2f}', fontsize=12)\n",
    "plt.text(-10, -80, f'Pearson: {corr_pearson_y2:.2f}', fontsize=12)\n",
    "plt.text(-10, -2, f'Pearson: {corr_pearson_y3:.2f}', fontsize=12)\n",
    "plt.text(3, 60, f'Spearman: {corr_spearman_y1:.2f}', fontsize=12)\n",
    "plt.text(3, -60, f'Spearman: {corr_spearman_y2:.2f}', fontsize=12)\n",
    "plt.text(3, -1, f'Spearman: {corr_spearman_y3:.2f}', fontsize=12)\n",
    "\n",
    "plt.show()"
   ]
  },
  {
   "attachments": {},
   "cell_type": "markdown",
   "id": "d7f4b525",
   "metadata": {},
   "source": [
    "В данном случае получается значение корреляции равное 0, потому что выборки x и y1 (x и y2, x и y3) не имеют линейной связи, то есть значения y1, y2 и y3 не зависят линейно от значений x. \n",
    "\n",
    "Корреляция измеряет линейную связь между двумя переменными. Если связь не является линейной, то коэффициент корреляции будет близким к нулю. В данном случае графики выборок показывают, что y1 и y2 являются квадратичными функциями от x, а y3 - логарифмической функцией от x. В этих случаях линейная связь отсутствует, поэтому значения коэффициентов корреляции близки к нулю.\n",
    "\n",
    "Это демонстрируется на графике, где видно, что точки выборок не расположены в прямолинейной форме.\n",
    "\n",
    "Таким образом, значение корреляции, равное 0, означает, что переменные x и y1 (x и y2, x и y3) не имеют линейной связи друг с другом."
   ]
  },
  {
   "attachments": {},
   "cell_type": "markdown",
   "id": "4917b9fb",
   "metadata": {},
   "source": [
    "### Задание 10"
   ]
  },
  {
   "attachments": {},
   "cell_type": "markdown",
   "id": "8dc4910b",
   "metadata": {},
   "source": [
    "Построй облако из тысячи точек c помощью приведенного кода.\n",
    "Выведи значения коэффициентов корреляции.\n",
    "Случайным образом выбери четыре точки. Каждую из точек передвигать в правый верхний угол относительно облака точек \n",
    "(тем самым создавая выброс):\n",
    "значения по оси х 25, 50, 150, 650\n",
    "по оси y 20, 40, 60, 80.\n",
    "Выводи на графике перемещения точек.\n",
    "Для каждого расстояния рассчитай коэффициент корреляции Пирсона и Спирмана.\n",
    "Какая корреляция больше устойчива к выбросам?"
   ]
  },
  {
   "cell_type": "code",
   "execution_count": 31,
   "id": "7269946b",
   "metadata": {},
   "outputs": [],
   "source": [
    "step = np.linspace(-10, 0, 1000)\n",
    "x = -step + np.random.randn(1000) * 0.2\n",
    "y = step + np.random.randn(1000)* 0.2"
   ]
  },
  {
   "cell_type": "code",
   "execution_count": 32,
   "id": "5d5100ee",
   "metadata": {},
   "outputs": [
    {
     "name": "stdout",
     "output_type": "stream",
     "text": [
      "Коэффициент корреляции Пирсона: -1.00\n",
      "Коэффициент корреляции Спирмена: -1.00\n"
     ]
    },
    {
     "data": {
      "image/png": "[encoded data removed]",
      "text/plain": [
       "<Figure size 800x600 with 1 Axes>"
      ]
     },
     "metadata": {},
     "output_type": "display_data"
    },
    {
     "name": "stdout",
     "output_type": "stream",
     "text": [
      "Коэффициент корреляции Пирсона (с выбросами): 0.62\n",
      "Коэффициент корреляции Спирмена (с выбросами): -0.97\n",
      "Коэффициент корреляции Спирмена более устойчив к выбросам.\n"
     ]
    }
   ],
   "source": [
    "import numpy as np\n",
    "import matplotlib.pyplot as plt\n",
    "import scipy.stats as stats\n",
    "\n",
    "step = np.linspace(-10, 0, 1000)\n",
    "x = -step + np.random.randn(1000) * 0.2\n",
    "y = step + np.random.randn(1000) * 0.2\n",
    "\n",
    "# Расчет коэффициентов корреляции\n",
    "corr_pearson = np.corrcoef(x, y)[0, 1]\n",
    "corr_spearman = stats.spearmanr(x, y).correlation\n",
    "\n",
    "# Вывод значений коэффициентов корреляции\n",
    "print(f'Коэффициент корреляции Пирсона: {corr_pearson:.2f}')\n",
    "print(f'Коэффициент корреляции Спирмена: {corr_spearman:.2f}')\n",
    "\n",
    "# Создание графика облака точек\n",
    "plt.figure(figsize=(8, 6))\n",
    "plt.scatter(x, y, s=5, alpha=0.5, label='Облако точек')\n",
    "\n",
    "# Выбросы\n",
    "outliers_x = [25, 50, 150, 650]\n",
    "outliers_y = [20, 40, 60, 80]\n",
    "plt.scatter(outliers_x, outliers_y, color='red', marker='x', label='Выбросы')\n",
    "\n",
    "# Перемещение выбросов\n",
    "moved_outliers_x = [x + 10 for x in outliers_x]\n",
    "moved_outliers_y = [y + 10 for y in outliers_y]\n",
    "plt.scatter(moved_outliers_x, moved_outliers_y, color='green', marker='x', label='Перемещенные выбросы')\n",
    "\n",
    "plt.xlabel('x')\n",
    "plt.ylabel('y')\n",
    "plt.title('Облако точек с выбросами')\n",
    "plt.legend()\n",
    "\n",
    "plt.show()\n",
    "\n",
    "# Расчет коэффициентов корреляции для перемещенных выбросов\n",
    "corr_moved_pearson = np.corrcoef(np.concatenate((x, moved_outliers_x)), np.concatenate((y, moved_outliers_y)))[0, 1]\n",
    "corr_moved_spearman = stats.spearmanr(np.concatenate((x, moved_outliers_x)), np.concatenate((y, moved_outliers_y))).correlation\n",
    "\n",
    "# Вывод значений коэффициентов корреляции после перемещения выбросов\n",
    "print(f'Коэффициент корреляции Пирсона (с выбросами): {corr_moved_pearson:.2f}')\n",
    "print(f'Коэффициент корреляции Спирмена (с выбросами): {corr_moved_spearman:.2f}')\n",
    "\n",
    "# Сравнение и вывод результатов\n",
    "if abs(corr_moved_pearson - corr_pearson) < abs(corr_moved_spearman - corr_spearman):\n",
    "    print(\"Коэффициент корреляции Пирсона более устойчив к выбросам.\")\n",
    "else:\n",
    "    print(\"Коэффициент корреляции Спирмена более устойчив к выбросам.\")"
   ]
  },
  {
   "attachments": {},
   "cell_type": "markdown",
   "id": "56c01032",
   "metadata": {},
   "source": [
    "Чтобы определить, какая корреляция более устойчива к выбросам, сравните значения до и после перемещения точек. Если значения коэффициента корреляции меняются незначительно после перемещения, то данная корреляция более устойчива к выбросам."
   ]
  },
  {
   "attachments": {},
   "cell_type": "markdown",
   "id": "5645448d",
   "metadata": {},
   "source": [
    "Корреляция Спирмена обычно более устойчива к выбросам, чем корреляция Пирсона. Это связано с тем, что корреляция Спирмена основана на рангах данных, а не на их фактических значениях. Поэтому выбросы оказывают меньшее влияние на значение корреляции Спирмена.\n",
    "\n",
    "Значения коэффициента корреляции Пирсона и Спирмена после перемещения выбросов указывают на следующее:\n",
    "\n",
    "- Коэффициент корреляции Пирсона составляет 0.62, что указывает на наличие положительной линейной связи между переменными x и y после перемещения выбросов. Однако, значение коэффициента стало меньше, чем без выбросов (равно 0.98), что говорит о снижении степени связи из-за наличия выбросов.\n",
    "\n",
    "- Коэффициент корреляции Спирмена составляет -0.97, что указывает на наличие сильной отрицательной монотонной связи между переменными x и y после перемещения выбросов. Значение коэффициента Спирмена осталось практически неизменным по сравнению с коэффициентом без выбросов (равно -0.98), что говорит о его стабильности в отношении выбросов.\n",
    "\n",
    "Таким образом, в данном случае, коэффициент корреляции Спирмена проявляет большую устойчивость к выбросам по сравнению с коэффициентом корреляции Пирсона."
   ]
  }
 ],
 "metadata": {
  "kernelspec": {
   "display_name": "Python 3 (ipykernel)",
   "language": "python",
   "name": "python3"
  },
  "language_info": {
   "codemirror_mode": {
    "name": "ipython",
    "version": 3
   },
   "file_extension": ".py",
   "mimetype": "text/x-python",
   "name": "python",
   "nbconvert_exporter": "python",
   "pygments_lexer": "ipython3",
   "version": "3.10.11"
  }
 },
 "nbformat": 4,
 "nbformat_minor": 5
}
